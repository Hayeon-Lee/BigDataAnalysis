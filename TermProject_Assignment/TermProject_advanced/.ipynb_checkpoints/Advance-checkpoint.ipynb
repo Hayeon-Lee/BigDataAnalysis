{
 "cells": [
  {
   "cell_type": "markdown",
   "id": "bd9872e3",
   "metadata": {},
   "source": [
    "# 데이터셋\n",
    "* 감겨 있는 한쪽 눈 사진 617장 (컬러)\n",
    "* 떠 있는 한쪽 눈 사진 617장 (컬러)\n",
    "* 정면 혹은 약간 측면을 보며 하품하는 사진 617장 (컬러)\n",
    "* 정면 혹은 약간 측면을 보며 하품하지 않는 평범한 사진 617장 (컬러)"
   ]
  },
  {
   "cell_type": "markdown",
   "id": "b9e75b11",
   "metadata": {},
   "source": [
    "# 1. CNN 모델 만들기 \n",
    "\n",
    "대부분의 내용이 Normal.ipynb 파일과 비슷하여 설명셀을 축약하여 적었습니다.\n",
    "\n",
    "Normal 버전과 다른 내용은 설명하는 셀을 자세히 적고 주석을 첨부하였습니다.\n",
    "\n",
    "감사합니다."
   ]
  },
  {
   "cell_type": "markdown",
   "id": "822ce7f5",
   "metadata": {},
   "source": [
    "### Tensorflow 가 없다는 오류가 뜨신다면\n",
    "\n",
    "<prompt에서 설치하기>\n",
    "1) Anaconda prompt를 관리자모드로 열어줍니다.\n",
    "\n",
    "2) 명령어를 입력합니다: \n",
    "` conda update --force conda `\n",
    "\n",
    "3) 명령어를 입력합니다:\n",
    "` conda install tensorflow `\n",
    "\n",
    "4) jupyter를 다시 실행합니다.\n",
    "\n",
    "<br />\n",
    "\n",
    "<anaconda navigator 에서 설치하기>\n",
    "1) Anaconda navigator 를 연 뒤, environment 에서 tensorflow를 검색합니다.\n",
    "\n",
    "2) tensorflow 항목을 선택한 뒤 다운로드 받습니다.\n",
    "\n",
    "3) jupyter를 다시 실행합니다.\n",
    "\n",
    "### protobuf downgrade 오류가 뜨신다면\n",
    "\n",
    "1) Anaconda prompt (관리자모드) 에서 명령어를 입력합니다: `pip uninstall protobuf`\n",
    "\n",
    "2) Anaconda prompt (관리자모드) 에서 명령어를 입력합니다: `pip install protobuf==3.19.0`\n",
    "\n",
    "3) jupyter 를 다시 실행합니다.\n",
    "\n",
    "<br />\n",
    "\n",
    " **항상 고생해주셔서 감사합니다!😊**"
   ]
  },
  {
   "cell_type": "markdown",
   "id": "5e207371",
   "metadata": {},
   "source": [
    "### CNN 모델을 만들 때 필요한 라이브러리"
   ]
  },
  {
   "cell_type": "code",
   "execution_count": 1,
   "id": "941e0574",
   "metadata": {},
   "outputs": [],
   "source": [
    "import matplotlib.pyplot as plt\n",
    "import numpy as np \n",
    "import pandas as pd \n",
    "import os\n",
    "\n",
    "import tensorflow as tf #딥러닝 인공지능 기법을 구현하기 쉽게 도와주는 라이브러리\n",
    "from glob import glob #dataset 의 사진 파일을 list로 불러올 수 있게 도와주는 라이브러리\n",
    "from tqdm import tqdm #반복문 진행률을 시각화해주는 라이브러리\n",
    "from PIL import Image #이미지 분석 및 처리를 쉽게할 수 있게 도와주는 라이브러리\n",
    "\n",
    "from sklearn.model_selection import train_test_split \n",
    "from tensorflow.keras.models import Sequential\n",
    "from tensorflow.keras.layers import Dense, Input, Conv2D, BatchNormalization, MaxPooling2D,Dropout, Flatten\n",
    "from keras.models import load_model\n",
    "from tensorflow.keras.utils import to_categorical\n",
    "from sklearn.metrics import confusion_matrix\n",
    "import seaborn as sns"
   ]
  },
  {
   "cell_type": "markdown",
   "id": "745a6608",
   "metadata": {},
   "source": [
    "### 1) 데이터셋을 흑백으로 바꾸고 64 * 64 사이즈로 조절하기 \n",
    "\n",
    "1) glob 은 인자로 전달받은 경로명에서 패턴(이 코드에서는 * 이므로 모든 파일)이 일치하는 파일들을 리스트로 반환합니다.\n",
    "\n",
    "2) tqdm 은 순회 가능한 객체를 for로 순회할 때, 진행률이 얼마나 되었는지를 보여주는 함수입니다.\n",
    "\n",
    "3) 이번에는 하품하는 사진과 하품하지 않는 사진도 포함되어 있으므로 전처리할 데이터가 더 많습니다."
   ]
  },
  {
   "cell_type": "code",
   "execution_count": 2,
   "id": "09edd742",
   "metadata": {},
   "outputs": [
    {
     "name": "stderr",
     "output_type": "stream",
     "text": [
      "100%|██████████| 617/617 [00:01<00:00, 343.11it/s]\n",
      "100%|██████████| 617/617 [00:01<00:00, 453.64it/s]\n",
      "100%|██████████| 617/617 [00:02<00:00, 221.69it/s]\n",
      "100%|██████████| 616/616 [00:02<00:00, 224.31it/s]\n"
     ]
    }
   ],
   "source": [
    "#눈 감음: 0, 눈 뜸: 1, 하품: 2, 하품 안함: 3\n",
    "\n",
    "X = []\n",
    "Y = []\n",
    "\n",
    "#눈 감은 사진 사이즈 조절 및 numpy 객체로 만들기\n",
    "for i in tqdm(glob('./archive/dataset_new/train/Closed/*')):\n",
    "    temp = Image.open(i).convert('L') #흑백으로 만듭니다.\n",
    "    temp = np.array(temp.resize((64,64))) #64*64사이즈로 만든 뒤 numpy 배열 객체로 만듭니다.\n",
    "    X.append(temp)\n",
    "    Y.append(0)  #눈 감은 사진의 라벨은 0으로 설정합니다.\n",
    "\n",
    "#눈 뜬 사진 사이즈 조절 및 numpy 객체로 만들기\n",
    "for i in tqdm(glob('./archive/dataset_new/train/Open/*')): #사진파일을 리스트로 불러옵니다.\n",
    "    temp = Image.open(i).convert('L') #흑백으로 만듭니다.\n",
    "    temp = np.array(temp.resize((64,64))) #64*64사이즈로 만든 뒤 numpy 배열 객체로 만듭니다.\n",
    "    X.append(temp)\n",
    "    Y.append(1) #눈 뜬 사진의 라벨은 1로 설정합니다.\n",
    "\n",
    "#하품하는 사진 사이즈 조절 및 numpy 객체로 만들기\n",
    "for i in tqdm(glob('./archive/dataset_new/train/yawn/*')): #사진파일을 리스트로 불러옵니다.\n",
    "    temp = Image.open(i).convert('L') #흑백으로 만듭니다.\n",
    "    temp = np.array(temp.resize((64,64))) #64*64사이즈로 만든 뒤 numpy 배열 객체로 만듭니다.\n",
    "    X.append(temp)\n",
    "    Y.append(2) #하품하는사진의 라벨은 2로 설정합니다.\n",
    "\n",
    "#하품하지 않는 사진 사이즈 조절 및 numpy 객체로 만들기\n",
    "for i in tqdm(glob('./archive/dataset_new/train/no_yawn/*')): #사진파일을 리스트로 불러옵니다.\n",
    "    temp = Image.open(i).convert('L') #흑백으로 만듭니다.\n",
    "    temp = np.array(temp.resize((64,64))) #64*64사이즈로 만든 뒤 numpy 배열 객체로 만듭니다.\n",
    "    X.append(temp)\n",
    "    Y.append(3) #하품하지 않는 사진의 라벨은 2로 설정합니다."
   ]
  },
  {
   "cell_type": "markdown",
   "id": "2a975ad4",
   "metadata": {},
   "source": [
    "### 1-1) 데이터 증강 코드 (증강을 안하신다면 건너뛰어주세요) "
   ]
  },
  {
   "cell_type": "code",
   "execution_count": null,
   "id": "b87273fc",
   "metadata": {},
   "outputs": [],
   "source": [
    "from tensorflow.keras.preprocessing.image import ImageDataGenerator\n",
    "\n",
    "# 데이터 증강을 위한 ImageDataGenerator 객체 생성\n",
    "datagen = ImageDataGenerator(\n",
    "    rotation_range=20,  # 이미지 회전 범위\n",
    "    width_shift_range=0.1,  # 좌우로 이동할 범위 비율\n",
    "    height_shift_range=0.1,  # 상하로 이동할 범위 비율\n",
    "    shear_range=0.2,  # 이미지 전단 변형 비율\n",
    "    zoom_range=0.2,  # 이미지 확대/축소 범위\n",
    "    horizontal_flip=True,  # 좌우 반전\n",
    "    vertical_flip=False  # 상하 반전\n",
    ")\n",
    "\n",
    "# 데이터 증강 적용\n",
    "augmented_X = []\n",
    "augmented_Y = []\n",
    "\n",
    "for i in range(len(X)):\n",
    "    img = X[i]\n",
    "    label = Y[i]\n",
    "    img = img.reshape((1,) + img.shape + (1,))\n",
    "    \n",
    "    # 이미지 증강 적용\n",
    "    augmented_images = datagen.flow(img, batch_size=1)\n",
    "    num_augmented = 0\n",
    "    \n",
    "    for augmented_image in augmented_images:\n",
    "        augmented_X.append(augmented_image[0, :, :, 0])\n",
    "        augmented_Y.append(label)\n",
    "        num_augmented += 1\n",
    "        \n",
    "        if num_augmented >= 5:  # 하나의 입력 이미지당 5개의 증강 이미지 생성\n",
    "            break\n",
    "\n",
    "# 증강된 데이터로 업데이트\n",
    "X.extend(augmented_X)\n",
    "Y.extend(augmented_Y)\n"
   ]
  },
  {
   "cell_type": "markdown",
   "id": "ad5cd1bf",
   "metadata": {},
   "source": [
    "### 2) 데이터를 0~1 사이의 값으로 만들고, 차원 확장\n",
    "### 3) Training data 와 Test data 분리하기\n",
    "\n",
    "Min-Max scailing algorithm: 본래 눈 데이터의 정규분포를 오염시키고 싶지 않아 해당 방법을 선택하였습니다.\n",
    "\n",
    "이번에는 다중분류모델을 구현해야하므로 to_categorical()을 이용하여 one-hot 인코딩을 진행합니다."
   ]
  },
  {
   "cell_type": "code",
   "execution_count": 3,
   "id": "f06eac3b",
   "metadata": {},
   "outputs": [],
   "source": [
    "X = (np.array(X) - np.min(X)) / (np.max(X) - np.min(X))\n",
    "X = X/255.0 #픽셀값은 0~255 사이이므로, 이 값을 0~1로 조절하기 위해 255로 나누기 진행\n",
    "X = np.expand_dims(X,-1) #가장 끝쪽의 차원을 추가하여 확대합니다. (흑백데이터이므로 1)\n",
    "\n",
    "X_train, X_test, y_train, y_test = train_test_split(X, Y, test_size=0.3, random_state=42)\n",
    "train_labels = to_categorical(y_train)\n",
    "test_labels = to_categorical(y_test)"
   ]
  },
  {
   "cell_type": "markdown",
   "id": "e33a0824",
   "metadata": {},
   "source": [
    "### 4) CNN Model 생성하기\n",
    "\n",
    "1) 컨볼루젼 레이어가 2개였을 때 정확도가 90%에서 더 오르지 않아 레이어를 2개 더 추가하였고, 96퍼센트로 성능을 상승시켰습니다.\n",
    "\n",
    "2) 총 4가지의 카테고리가 있기 때문에 최종 Dense의 unit은 4, 활성함수는 softmax 입니다."
   ]
  },
  {
   "cell_type": "code",
   "execution_count": 4,
   "id": "c9260ec6",
   "metadata": {},
   "outputs": [],
   "source": [
    "#계층을 선형으로 쌓는 Sequential() 사용, 13주차에서 배운 내용 응용\n",
    "#Sequential()은 입력층, 은닉층, 출력층 등을 구성하기 위해 사용한다.\n",
    "classes = 4\n",
    "\n",
    "model = Sequential([\n",
    "      Input(shape=(64, 64, 1)), #입력의 크기, 흑백이므로 1\n",
    "\n",
    "      #출처: keras 공식문서 (https://keras.io/ko/layers/convolutional/)\n",
    "      #filters: convolution 필터의 개수 == 특성 맵의 개수\n",
    "      #kernel_size: convolution filter의 크기, 5*5 \n",
    "      #strides: 필터 윈도우가 움직이는 거리를 지정\n",
    "      #use_bias: 함수를 데이터에 근사시키기 위해 사용\n",
    "      #은닉층이므로 ReLU 사용, sigmoid 는 output 이 음수 값으로 나오는 것들을 0에 가깝게 표현하면서\n",
    "      #weight가 변하지 않는 문제(gradient 소실)로 인해 사용하지 않았습니다.\n",
    "    \n",
    "      #1번째 convolution - pooling 레이어 세트\n",
    "      Conv2D(filters = 32, kernel_size = 5, strides = 1, activation = 'relu', use_bias=False),\n",
    "      BatchNormalization(), #입력값을 평균 0, 분산 1로 정규화하여 학습이 잘 일어나도록 돕는 배치 정규화\n",
    "      MaxPooling2D(strides = 2),\n",
    "      Dropout(0.3),#과한 학습으로 인한 과적합을 줄이기 위하여 Dropout 실시\n",
    "\n",
    "      #2번째 convolution - pooling 레이어 세트\n",
    "      Conv2D(filters = 64, kernel_size = 3, strides = 1, activation = 'relu', use_bias=False),\n",
    "      BatchNormalization(),\n",
    "      MaxPooling2D(strides = 2),\n",
    "      Dropout(0.3),\n",
    "    \n",
    "      #정확도가 90이 나와 레이어 두 개를 더 쌓는다: 90%에서 96%로 상승되었다.\n",
    "      Conv2D(filters = 128, kernel_size = 3, strides = 1, activation = 'relu', use_bias=False),\n",
    "      Conv2D(filters = 128, kernel_size = 3, strides = 1, activation = 'relu', use_bias=False),\n",
    "      MaxPooling2D(strides = 2),\n",
    "      Dropout(0.3),\n",
    "      \n",
    "      Flatten(), #1차원으로 변환\n",
    "      # unit: 레이어에서 생성할 뉴런의 수, 출력차원을 결정하고 많을수록 표현력이 높아진다.\n",
    "      # use_bias: 편향사용여부\n",
    "      Dense(units  = 256, activation = 'relu', use_bias=False),\n",
    "      BatchNormalization(),\n",
    "\n",
    "      Dense(units = 128, use_bias=False, activation = 'relu'),\n",
    "\n",
    "      Dense(units = 84, use_bias=False, activation = 'relu'),\n",
    "      BatchNormalization(),\n",
    "      Dropout(0.3),\n",
    "        \n",
    "      #카테고리가 총 4개이므로 unit은 4, softmax 활성함수를 통과시킨다.\n",
    "      Dense(classes, activation = 'softmax')\n",
    "  ])\n",
    "#print(model.summary())"
   ]
  },
  {
   "cell_type": "markdown",
   "id": "75a7644d",
   "metadata": {},
   "source": [
    "### 5) model 컴파일링하기\n",
    "\n",
    "binary_crossentropy 가 아닌 categorical_crossentropy를 사용합니다."
   ]
  },
  {
   "cell_type": "code",
   "execution_count": 5,
   "id": "8cff5f48",
   "metadata": {},
   "outputs": [],
   "source": [
    "model.compile(optimizer='adam',loss='categorical_crossentropy', metrics=['acc'])"
   ]
  },
  {
   "cell_type": "markdown",
   "id": "30448109",
   "metadata": {},
   "source": [
    "### 6) 증강 안한 model 훈련시키기 (이 코드를 실행하면 6-1을 실행 안하셔도 됩니다)"
   ]
  },
  {
   "cell_type": "code",
   "execution_count": null,
   "id": "87c95aff",
   "metadata": {},
   "outputs": [
    {
     "name": "stdout",
     "output_type": "stream",
     "text": [
      "Epoch 1/30\n",
      "54/54 [==============================] - ETA: 0s - loss: 0.8187 - acc: 0.6373\n",
      "Epoch 1: saving model to AdvancedModel.h5\n",
      "54/54 [==============================] - 7s 99ms/step - loss: 0.8187 - acc: 0.6373\n",
      "Epoch 2/30\n",
      "54/54 [==============================] - ETA: 0s - loss: 0.5134 - acc: 0.7457\n",
      "Epoch 2: saving model to AdvancedModel.h5\n",
      "54/54 [==============================] - 4s 76ms/step - loss: 0.5134 - acc: 0.7457\n",
      "Epoch 3/30\n",
      "54/54 [==============================] - ETA: 0s - loss: 0.4865 - acc: 0.7590\n",
      "Epoch 3: saving model to AdvancedModel.h5\n",
      "54/54 [==============================] - 4s 81ms/step - loss: 0.4865 - acc: 0.7590\n",
      "Epoch 4/30\n",
      "54/54 [==============================] - ETA: 0s - loss: 0.4028 - acc: 0.7845\n",
      "Epoch 4: saving model to AdvancedModel.h5\n",
      "54/54 [==============================] - 5s 86ms/step - loss: 0.4028 - acc: 0.7845\n",
      "Epoch 5/30\n",
      "54/54 [==============================] - ETA: 0s - loss: 0.4064 - acc: 0.8024\n",
      "Epoch 5: saving model to AdvancedModel.h5\n",
      "54/54 [==============================] - 4s 82ms/step - loss: 0.4064 - acc: 0.8024\n",
      "Epoch 6/30\n",
      "54/54 [==============================] - ETA: 0s - loss: 0.3528 - acc: 0.8169\n",
      "Epoch 6: saving model to AdvancedModel.h5\n",
      "54/54 [==============================] - 4s 78ms/step - loss: 0.3528 - acc: 0.8169\n",
      "Epoch 7/30\n",
      "54/54 [==============================] - ETA: 0s - loss: 0.3603 - acc: 0.8169\n",
      "Epoch 7: saving model to AdvancedModel.h5\n",
      "54/54 [==============================] - 4s 76ms/step - loss: 0.3603 - acc: 0.8169\n",
      "Epoch 8/30\n",
      "54/54 [==============================] - ETA: 0s - loss: 0.3656 - acc: 0.8204\n",
      "Epoch 8: saving model to AdvancedModel.h5\n",
      "54/54 [==============================] - 5s 84ms/step - loss: 0.3656 - acc: 0.8204\n",
      "Epoch 9/30\n",
      "54/54 [==============================] - ETA: 0s - loss: 0.3211 - acc: 0.8453\n",
      "Epoch 9: saving model to AdvancedModel.h5\n",
      "54/54 [==============================] - 5s 86ms/step - loss: 0.3211 - acc: 0.8453\n",
      "Epoch 10/30\n",
      "54/54 [==============================] - ETA: 0s - loss: 0.3218 - acc: 0.8447\n",
      "Epoch 10: saving model to AdvancedModel.h5\n",
      "54/54 [==============================] - 4s 76ms/step - loss: 0.3218 - acc: 0.8447\n",
      "Epoch 11/30\n",
      "54/54 [==============================] - ETA: 0s - loss: 0.2962 - acc: 0.8592\n",
      "Epoch 11: saving model to AdvancedModel.h5\n",
      "54/54 [==============================] - 4s 72ms/step - loss: 0.2962 - acc: 0.8592\n",
      "Epoch 12/30\n",
      "54/54 [==============================] - ETA: 0s - loss: 0.2667 - acc: 0.8795\n",
      "Epoch 12: saving model to AdvancedModel.h5\n",
      "54/54 [==============================] - 4s 75ms/step - loss: 0.2667 - acc: 0.8795\n",
      "Epoch 13/30\n",
      "54/54 [==============================] - ETA: 0s - loss: 0.2621 - acc: 0.8853\n",
      "Epoch 13: saving model to AdvancedModel.h5\n",
      "54/54 [==============================] - 4s 71ms/step - loss: 0.2621 - acc: 0.8853\n",
      "Epoch 14/30\n",
      "54/54 [==============================] - ETA: 0s - loss: 0.2287 - acc: 0.8969\n",
      "Epoch 14: saving model to AdvancedModel.h5\n",
      "54/54 [==============================] - 4s 71ms/step - loss: 0.2287 - acc: 0.8969\n",
      "Epoch 15/30\n",
      "54/54 [==============================] - ETA: 0s - loss: 0.2280 - acc: 0.9090\n",
      "Epoch 15: saving model to AdvancedModel.h5\n",
      "54/54 [==============================] - 4s 77ms/step - loss: 0.2280 - acc: 0.9090\n",
      "Epoch 16/30\n",
      "54/54 [==============================] - ETA: 0s - loss: 0.1711 - acc: 0.9363\n",
      "Epoch 16: saving model to AdvancedModel.h5\n",
      "54/54 [==============================] - 4s 74ms/step - loss: 0.1711 - acc: 0.9363\n",
      "Epoch 17/30\n",
      "54/54 [==============================] - ETA: 0s - loss: 0.1779 - acc: 0.9299\n",
      "Epoch 17: saving model to AdvancedModel.h5\n",
      "54/54 [==============================] - 4s 73ms/step - loss: 0.1779 - acc: 0.9299\n",
      "Epoch 18/30\n",
      "54/54 [==============================] - ETA: 0s - loss: 0.1351 - acc: 0.9502\n",
      "Epoch 18: saving model to AdvancedModel.h5\n",
      "54/54 [==============================] - 5s 89ms/step - loss: 0.1351 - acc: 0.9502\n",
      "Epoch 19/30\n",
      "54/54 [==============================] - ETA: 0s - loss: 0.1472 - acc: 0.9455\n",
      "Epoch 19: saving model to AdvancedModel.h5\n",
      "54/54 [==============================] - 4s 82ms/step - loss: 0.1472 - acc: 0.9455\n",
      "Epoch 20/30\n",
      " 8/54 [===>..........................] - ETA: 4s - loss: 0.1322 - acc: 0.9414"
     ]
    }
   ],
   "source": [
    "callback = tf.keras.callbacks.ModelCheckpoint(\n",
    "    filepath='AdvancedModel.h5', #모델 저장 path \n",
    "    save_weights_only=False,#weight가 아닌 전체 모델을 저장\n",
    "    monitor='val_loss', #손실이 체크포인트 저장 기준\n",
    "    mode='min', #손실이 가장 낮은 모델을 저장\n",
    "    verbose =1) #체크포인트 저장 시 로그 메세지 출력\n",
    "#모델 정확도 증가 X == 저장 X\n",
    "history = model.fit(X_train, train_labels, epochs=30, batch_size=32, callbacks=callback)\n",
    "# accuracy 그래프 그리기\n",
    "plt.plot(history.history['acc'])\n",
    "plt.show()"
   ]
  },
  {
   "cell_type": "markdown",
   "id": "64f43981",
   "metadata": {},
   "source": [
    "### 6-1) 증강한 model 훈련시키기"
   ]
  },
  {
   "cell_type": "code",
   "execution_count": 14,
   "id": "51d633e6",
   "metadata": {},
   "outputs": [
    {
     "name": "stdout",
     "output_type": "stream",
     "text": [
      "Epoch 1/30\n",
      "324/324 [==============================] - ETA: 0s - loss: 0.0450 - acc: 0.9836\n",
      "Epoch 1: saving model to ExtendedAdvancedModel.h5\n",
      "324/324 [==============================] - 25s 77ms/step - loss: 0.0450 - acc: 0.9836\n",
      "Epoch 2/30\n",
      "324/324 [==============================] - ETA: 0s - loss: 0.0274 - acc: 0.9904\n",
      "Epoch 2: saving model to ExtendedAdvancedModel.h5\n",
      "324/324 [==============================] - 28s 87ms/step - loss: 0.0274 - acc: 0.9904\n",
      "Epoch 3/30\n",
      "324/324 [==============================] - ETA: 0s - loss: 0.0238 - acc: 0.9915\n",
      "Epoch 3: saving model to ExtendedAdvancedModel.h5\n",
      "324/324 [==============================] - 29s 90ms/step - loss: 0.0238 - acc: 0.9915\n",
      "Epoch 4/30\n",
      "324/324 [==============================] - ETA: 0s - loss: 0.0462 - acc: 0.9852\n",
      "Epoch 4: saving model to ExtendedAdvancedModel.h5\n",
      "324/324 [==============================] - 29s 89ms/step - loss: 0.0462 - acc: 0.9852\n",
      "Epoch 5/30\n",
      "324/324 [==============================] - ETA: 0s - loss: 0.0413 - acc: 0.9857\n",
      "Epoch 5: saving model to ExtendedAdvancedModel.h5\n",
      "324/324 [==============================] - 29s 90ms/step - loss: 0.0413 - acc: 0.9857\n",
      "Epoch 6/30\n",
      "323/324 [============================>.] - ETA: 0s - loss: 0.0214 - acc: 0.9929\n",
      "Epoch 6: saving model to ExtendedAdvancedModel.h5\n",
      "324/324 [==============================] - 26s 81ms/step - loss: 0.0215 - acc: 0.9930\n",
      "Epoch 7/30\n",
      "324/324 [==============================] - ETA: 0s - loss: 0.0261 - acc: 0.9912\n",
      "Epoch 7: saving model to ExtendedAdvancedModel.h5\n",
      "324/324 [==============================] - 28s 86ms/step - loss: 0.0261 - acc: 0.9912\n",
      "Epoch 8/30\n",
      "324/324 [==============================] - ETA: 0s - loss: 0.0338 - acc: 0.9888\n",
      "Epoch 8: saving model to ExtendedAdvancedModel.h5\n",
      "324/324 [==============================] - 28s 85ms/step - loss: 0.0338 - acc: 0.9888\n",
      "Epoch 9/30\n",
      "324/324 [==============================] - ETA: 0s - loss: 0.0330 - acc: 0.9890\n",
      "Epoch 9: saving model to ExtendedAdvancedModel.h5\n",
      "324/324 [==============================] - 29s 89ms/step - loss: 0.0330 - acc: 0.9890\n",
      "Epoch 10/30\n",
      "324/324 [==============================] - ETA: 0s - loss: 0.0532 - acc: 0.9816\n",
      "Epoch 10: saving model to ExtendedAdvancedModel.h5\n",
      "324/324 [==============================] - 26s 81ms/step - loss: 0.0532 - acc: 0.9816\n",
      "Epoch 11/30\n",
      "324/324 [==============================] - ETA: 0s - loss: 0.0266 - acc: 0.9911\n",
      "Epoch 11: saving model to ExtendedAdvancedModel.h5\n",
      "324/324 [==============================] - 26s 82ms/step - loss: 0.0266 - acc: 0.9911\n",
      "Epoch 12/30\n",
      "324/324 [==============================] - ETA: 0s - loss: 0.0239 - acc: 0.9912\n",
      "Epoch 12: saving model to ExtendedAdvancedModel.h5\n",
      "324/324 [==============================] - 26s 79ms/step - loss: 0.0239 - acc: 0.9912\n",
      "Epoch 13/30\n",
      "324/324 [==============================] - ETA: 0s - loss: 0.0149 - acc: 0.9946\n",
      "Epoch 13: saving model to ExtendedAdvancedModel.h5\n",
      "324/324 [==============================] - 26s 80ms/step - loss: 0.0149 - acc: 0.9946\n",
      "Epoch 14/30\n",
      "324/324 [==============================] - ETA: 0s - loss: 0.0153 - acc: 0.9948\n",
      "Epoch 14: saving model to ExtendedAdvancedModel.h5\n",
      "324/324 [==============================] - 26s 80ms/step - loss: 0.0153 - acc: 0.9948\n",
      "Epoch 15/30\n",
      "324/324 [==============================] - ETA: 0s - loss: 0.0251 - acc: 0.9919\n",
      "Epoch 15: saving model to ExtendedAdvancedModel.h5\n",
      "324/324 [==============================] - 28s 85ms/step - loss: 0.0251 - acc: 0.9919\n",
      "Epoch 16/30\n",
      "324/324 [==============================] - ETA: 0s - loss: 0.0275 - acc: 0.9910\n",
      "Epoch 16: saving model to ExtendedAdvancedModel.h5\n",
      "324/324 [==============================] - 27s 82ms/step - loss: 0.0275 - acc: 0.9910\n",
      "Epoch 17/30\n",
      "324/324 [==============================] - ETA: 0s - loss: 0.0172 - acc: 0.9941\n",
      "Epoch 17: saving model to ExtendedAdvancedModel.h5\n",
      "324/324 [==============================] - 26s 81ms/step - loss: 0.0172 - acc: 0.9941\n",
      "Epoch 18/30\n",
      "324/324 [==============================] - ETA: 0s - loss: 0.0200 - acc: 0.9928\n",
      "Epoch 18: saving model to ExtendedAdvancedModel.h5\n",
      "324/324 [==============================] - 27s 82ms/step - loss: 0.0200 - acc: 0.9928\n",
      "Epoch 19/30\n",
      "324/324 [==============================] - ETA: 0s - loss: 0.0211 - acc: 0.9932\n",
      "Epoch 19: saving model to ExtendedAdvancedModel.h5\n",
      "324/324 [==============================] - 29s 89ms/step - loss: 0.0211 - acc: 0.9932\n",
      "Epoch 20/30\n",
      "324/324 [==============================] - ETA: 0s - loss: 0.0207 - acc: 0.9933\n",
      "Epoch 20: saving model to ExtendedAdvancedModel.h5\n",
      "324/324 [==============================] - 31s 95ms/step - loss: 0.0207 - acc: 0.9933\n",
      "Epoch 21/30\n",
      "324/324 [==============================] - ETA: 0s - loss: 0.0203 - acc: 0.9937\n",
      "Epoch 21: saving model to ExtendedAdvancedModel.h5\n",
      "324/324 [==============================] - 29s 88ms/step - loss: 0.0203 - acc: 0.9937\n",
      "Epoch 22/30\n",
      "324/324 [==============================] - ETA: 0s - loss: 0.0266 - acc: 0.9914\n",
      "Epoch 22: saving model to ExtendedAdvancedModel.h5\n",
      "324/324 [==============================] - 27s 83ms/step - loss: 0.0266 - acc: 0.9914\n",
      "Epoch 23/30\n",
      "324/324 [==============================] - ETA: 0s - loss: 0.0155 - acc: 0.9951\n",
      "Epoch 23: saving model to ExtendedAdvancedModel.h5\n",
      "324/324 [==============================] - 29s 89ms/step - loss: 0.0155 - acc: 0.9951\n",
      "Epoch 24/30\n",
      "324/324 [==============================] - ETA: 0s - loss: 0.0139 - acc: 0.9953\n",
      "Epoch 24: saving model to ExtendedAdvancedModel.h5\n",
      "324/324 [==============================] - 30s 93ms/step - loss: 0.0139 - acc: 0.9953\n",
      "Epoch 25/30\n",
      "324/324 [==============================] - ETA: 0s - loss: 0.0191 - acc: 0.9935\n",
      "Epoch 25: saving model to ExtendedAdvancedModel.h5\n",
      "324/324 [==============================] - 26s 80ms/step - loss: 0.0191 - acc: 0.9935\n",
      "Epoch 26/30\n",
      "324/324 [==============================] - ETA: 0s - loss: 0.0524 - acc: 0.9841\n",
      "Epoch 26: saving model to ExtendedAdvancedModel.h5\n",
      "324/324 [==============================] - 26s 79ms/step - loss: 0.0524 - acc: 0.9841\n",
      "Epoch 27/30\n",
      "324/324 [==============================] - ETA: 0s - loss: 0.0187 - acc: 0.9942\n",
      "Epoch 27: saving model to ExtendedAdvancedModel.h5\n",
      "324/324 [==============================] - 27s 83ms/step - loss: 0.0187 - acc: 0.9942\n",
      "Epoch 28/30\n",
      "324/324 [==============================] - ETA: 0s - loss: 0.0148 - acc: 0.9954\n",
      "Epoch 28: saving model to ExtendedAdvancedModel.h5\n",
      "324/324 [==============================] - 28s 86ms/step - loss: 0.0148 - acc: 0.9954\n",
      "Epoch 29/30\n",
      "324/324 [==============================] - ETA: 0s - loss: 0.0149 - acc: 0.9955\n",
      "Epoch 29: saving model to ExtendedAdvancedModel.h5\n",
      "324/324 [==============================] - 28s 87ms/step - loss: 0.0149 - acc: 0.9955\n",
      "Epoch 30/30\n",
      "324/324 [==============================] - ETA: 0s - loss: 0.0312 - acc: 0.9896\n",
      "Epoch 30: saving model to ExtendedAdvancedModel.h5\n",
      "324/324 [==============================] - 28s 86ms/step - loss: 0.0312 - acc: 0.9896\n"
     ]
    },
    {
     "ename": "KeyError",
     "evalue": "'accuracy'",
     "output_type": "error",
     "traceback": [
      "\u001b[1;31m---------------------------------------------------------------------------\u001b[0m",
      "\u001b[1;31mKeyError\u001b[0m                                  Traceback (most recent call last)",
      "Cell \u001b[1;32mIn[14], line 11\u001b[0m\n\u001b[0;32m      8\u001b[0m history \u001b[38;5;241m=\u001b[39m model\u001b[38;5;241m.\u001b[39mfit(X_train, train_labels, epochs\u001b[38;5;241m=\u001b[39m\u001b[38;5;241m30\u001b[39m, batch_size\u001b[38;5;241m=\u001b[39m\u001b[38;5;241m32\u001b[39m, callbacks\u001b[38;5;241m=\u001b[39mcallback)\n\u001b[0;32m     10\u001b[0m \u001b[38;5;66;03m# accuracy 그래프 그리기\u001b[39;00m\n\u001b[1;32m---> 11\u001b[0m plt\u001b[38;5;241m.\u001b[39mplot(\u001b[43mhistory\u001b[49m\u001b[38;5;241;43m.\u001b[39;49m\u001b[43mhistory\u001b[49m\u001b[43m[\u001b[49m\u001b[38;5;124;43m'\u001b[39;49m\u001b[38;5;124;43maccuracy\u001b[39;49m\u001b[38;5;124;43m'\u001b[39;49m\u001b[43m]\u001b[49m)\n\u001b[0;32m     12\u001b[0m plt\u001b[38;5;241m.\u001b[39mplot(history\u001b[38;5;241m.\u001b[39mhistory[\u001b[38;5;124m'\u001b[39m\u001b[38;5;124mval_accuracy\u001b[39m\u001b[38;5;124m'\u001b[39m])\n\u001b[0;32m     13\u001b[0m plt\u001b[38;5;241m.\u001b[39mtitle(\u001b[38;5;124m'\u001b[39m\u001b[38;5;124mModel Accuracy\u001b[39m\u001b[38;5;124m'\u001b[39m)\n",
      "\u001b[1;31mKeyError\u001b[0m: 'accuracy'"
     ]
    }
   ],
   "source": [
    "callback = tf.keras.callbacks.ModelCheckpoint(\n",
    "    filepath='ExtendedAdvancedModel.h5', #모델 저장 path \n",
    "    save_weights_only=False,#weight가 아닌 전체 모델을 저장\n",
    "    monitor='val_loss', #손실이 체크포인트 저장 기준\n",
    "    mode='min', #손실이 가장 낮은 모델을 저장\n",
    "    verbose =1) #체크포인트 저장 시 로그 메세지 출력\n",
    "#모델 정확도 증가 X == 저장 X\n",
    "history = model.fit(X_train, train_labels, epochs=30, batch_size=32, callbacks=callback)"
   ]
  },
  {
   "cell_type": "code",
   "execution_count": 16,
   "id": "c1c8a25d",
   "metadata": {},
   "outputs": [
    {
     "data": {
      "image/png": "[encoded data removed]",
      "text/plain": [
       "<Figure size 640x480 with 1 Axes>"
      ]
     },
     "metadata": {},
     "output_type": "display_data"
    }
   ],
   "source": [
    "# accuracy 그래프 그리기\n",
    "plt.plot(history.history['acc'])\n",
    "plt.show()\n",
    "\n",
    "'''\n",
    "증강으로 인해 모델의 복잡도를 높였고, 데이터가 다양해졌기 때문에 증강하기 전의 \n",
    "accuracy 그래프보다 요동치는 모양새를 가지게 됩니다.\n",
    "'''"
   ]
  },
  {
   "cell_type": "markdown",
   "id": "7fbbb825",
   "metadata": {},
   "source": [
    "### 7) model 평가하기 (증강 없을 시, 최대 97%까지 성공하였습니다)"
   ]
  },
  {
   "cell_type": "code",
   "execution_count": null,
   "id": "d1e23d0b",
   "metadata": {},
   "outputs": [],
   "source": [
    "test_loss, test_acc = model.evaluate(X_test, test_labels)\n",
    "print('Test Accuracy: ', test_acc, '\\nTest Loss: ', test_loss)"
   ]
  },
  {
   "cell_type": "markdown",
   "id": "5de8974d",
   "metadata": {},
   "source": [
    "### 8) model로 테스트 이미지 실험해보기 + confusion matrix\n",
    "\n",
    "4가지 카테고리별로 확률이 나오는데, 그 중 가장 높은 확률의 인덱스를 구한 뒤 \n",
    "\n",
    "categories[]에 해당하는 인덱스를 출력하였습니다."
   ]
  },
  {
   "cell_type": "code",
   "execution_count": null,
   "id": "a9cebf6f",
   "metadata": {
    "scrolled": false
   },
   "outputs": [],
   "source": [
    "categories = ['close', 'open', 'yawn', 'no_yawn']\n",
    "\n",
    "for img in X_test[0:10]:\n",
    "    test_img = np.expand_dims(img,0) #배치 차원 추가 (1,64,64,1)\n",
    "    prediction = model.predict(test_img)\n",
    "    plt.imshow(img)\n",
    "    plt.show()\n",
    "    \n",
    "    result = [np.argmax(value) for value in prediction]\n",
    "    print(categories[result[0]])"
   ]
  },
  {
   "cell_type": "markdown",
   "id": "5a804144",
   "metadata": {},
   "source": [
    "# 2. 실시간 카메라로 졸음 탐지하기\n",
    "**1. CNN 모델 만들기** 과정 없이, 함께 제출한 **AdvancedModel.h5** 만 있어도 실행 가능 합니다."
   ]
  },
  {
   "cell_type": "markdown",
   "id": "35b4dd5e",
   "metadata": {},
   "source": [
    "#### 1. cv2 가 없다는 오류가 뜨신다면\n",
    "\n",
    "아나콘다 프롬프트에 입력합니다: `pip install opencv-python` \n",
    "\n",
    "<br />\n",
    "\n",
    "#### 2. dlib 가 없다는 오류가 뜨신다면\n",
    "1) http://dlib.net/ 에서 하단의 파란버튼 'Download dlib'를 누른 후, 다운로드합니다. 다운로드 된 압축파일은 아나콘다를 실행했을 때 나오는 기본 폴더에 풀어줍니다.\n",
    "\n",
    "2) https://cmake.org/download/ 에서 운영체제에 맞는 설치파일을 다운로드 후, 설치합니다.\n",
    "\n",
    "3) 아나콘다 프롬프트에 입력합니다: `pip install dlib`\n",
    "\n",
    "<br />\n",
    "\n",
    "#### 3. torch 가 없다는 오류가 뜨신다면\n",
    "아나콘다 프롬프트에서 torch를 검색하여 pytorch와 torch를 다운로드 해줍니다. \n",
    "\n",
    "<br />\n",
    "\n",
    "#### 4. imutils 가 없다는 오류가 뜨신다면\n",
    "아나콘다 프롬프트에 입력합니다: `pip install imutils`\n",
    "\n",
    "<br />\n",
    "\n",
    "위의 모든 작업들을 진행하신 뒤에는 jupyter notebook을 재실행하시는 것을 권장드립니다.\n",
    "감사합니다."
   ]
  },
  {
   "cell_type": "markdown",
   "id": "999d97f3",
   "metadata": {},
   "source": [
    "### 졸음 탐지를 할 때 필요한 라이브러리"
   ]
  },
  {
   "cell_type": "code",
   "execution_count": 22,
   "id": "afaa7c6d",
   "metadata": {},
   "outputs": [],
   "source": [
    "import cv2 #opencv 라이브러리\n",
    "import dlib #얼굴탐지를 도와주는 라이브러리\n",
    "import numpy as np #데이터 전처리를 위해 사용됨\n",
    "from tensorflow.keras.models import load_model #모델을 불러오기 위해 사용하는 라이브러리\n",
    "from collections import deque #졸음 탐지용 큐 라이브러리\n",
    "import threading\n",
    "import time"
   ]
  },
  {
   "cell_type": "markdown",
   "id": "38ea4600",
   "metadata": {},
   "source": [
    "### 1) 얼굴 탐지기 (dlib) 와 landmark 탐지기 초기화"
   ]
  },
  {
   "cell_type": "code",
   "execution_count": 23,
   "id": "b7e88f05",
   "metadata": {},
   "outputs": [],
   "source": [
    "# 얼굴 탐지기와 랜드마크 탐지기 초기화\n",
    "face_detector = dlib.get_frontal_face_detector()\n",
    "landmark_predictor = dlib.shape_predictor('shape_predictor_68_face_landmarks.dat') #첨부파일에 함께 넣었습니다."
   ]
  },
  {
   "cell_type": "markdown",
   "id": "351e3eb5",
   "metadata": {},
   "source": [
    "### 2) 사전에 학습한 모델 불러오기"
   ]
  },
  {
   "cell_type": "code",
   "execution_count": 24,
   "id": "97da8b24",
   "metadata": {},
   "outputs": [],
   "source": [
    "model = load_model('AdvancedModel.h5')"
   ]
  },
  {
   "cell_type": "markdown",
   "id": "7458af2a",
   "metadata": {},
   "source": [
    "### 3) 눈 감김 상태를 확인하는 함수"
   ]
  },
  {
   "cell_type": "code",
   "execution_count": 25,
   "id": "2f9ce469",
   "metadata": {},
   "outputs": [],
   "source": [
    "categories = ['close', 'open', 'yawn', 'no_yawn']\n",
    "# 눈 감김 상태 확인 함수\n",
    "def check_eye_status(eyes):\n",
    "    # 입력 이미지 전처리\n",
    "    img = cv2.resize(eyes, (64, 64))  # 이미지 크기 조절\n",
    "    img = cv2.cvtColor(img, cv2.COLOR_BGR2GRAY)  # 흑백 이미지로 변환\n",
    "    img = np.array(img) #np.array 화\n",
    "    img = (np.array(img)-np.min(img))/(np.max(img)-np.min(img)) #min-max scailing\n",
    "    img = img/255.0 #0~255 사이의 값으로\n",
    "    img = np.expand_dims(img, axis=-1)  # 차원 확장 (64,64,1) [흑백이미지]\n",
    "    img = np.expand_dims(img, axis=0)  # 배치 차원 추가 (1,64,64,1) \n",
    "    \n",
    "    # 눈 감김 여부 확인\n",
    "    prediction = model.predict(img)\n",
    "    result = [np.argmax(value) for value in prediction]\n",
    "    return result[0]\n",
    "\n",
    "# 0일 때 close, 그 이외 open "
   ]
  },
  {
   "cell_type": "markdown",
   "id": "06f56c71",
   "metadata": {},
   "source": [
    "### 4) 하품을 했는지, 하지 않았는지 확인하는 함수"
   ]
  },
  {
   "cell_type": "code",
   "execution_count": 26,
   "id": "6ff8aaf4",
   "metadata": {},
   "outputs": [],
   "source": [
    "def check_yawn_status(face):\n",
    "    img = cv2.resize(face, (64,64))\n",
    "    img = cv2.cvtColor(img, cv2.COLOR_BGR2GRAY) \n",
    "    img = np.array(img)\n",
    "    img = (np.array(img)-np.min(img))/(np.max(img)-np.min(img)) #min-max scailing\n",
    "    img = img/255.0 #0~255 사이의 값으로\n",
    "    img = np.expand_dims(img, axis=-1)  # 차원 확장 (64,64,1) [흑백이미지]\n",
    "    img = np.expand_dims(img, axis=0)  # 배치 차원 추가 (1,64,64,1) \n",
    "    \n",
    "    prediction = model.predict(img)\n",
    "    result = [np.argmax(value) for value in prediction]\n",
    "    return result[0]\n",
    "# 2일 때 하품, 그 이외에 하품 X"
   ]
  },
  {
   "cell_type": "markdown",
   "id": "05748908",
   "metadata": {},
   "source": [
    "### 5) 2초 이상 눈을 감고 있는지 확인하는 함수"
   ]
  },
  {
   "cell_type": "code",
   "execution_count": 27,
   "id": "0f68cae6",
   "metadata": {},
   "outputs": [],
   "source": [
    "def sleep_status(left_eye, right_eye):\n",
    "    global count\n",
    "    if left_eye == 0 and right_eye == 0:\n",
    "        count += 1\n",
    "        \n",
    "        if count == 2:\n",
    "            return 10\n",
    "    else:\n",
    "        count = 0\n",
    "    \n",
    "    timer = threading.Timer(1, sleep_status, args=(left_eye, right_eye))\n",
    "    timer.start()"
   ]
  },
  {
   "cell_type": "markdown",
   "id": "5ef96ca7",
   "metadata": {},
   "source": [
    "### 6) 카메라 연결 및 탐지"
   ]
  },
  {
   "cell_type": "code",
   "execution_count": 28,
   "id": "d7c2d3df",
   "metadata": {},
   "outputs": [
    {
     "name": "stdout",
     "output_type": "stream",
     "text": [
      "1/1 [==============================] - 0s 190ms/step\n",
      "1/1 [==============================] - 0s 28ms/step\n",
      "1/1 [==============================] - 0s 27ms/step\n",
      "1/1 [==============================] - 0s 39ms/step\n",
      "1/1 [==============================] - 0s 37ms/step\n",
      "1/1 [==============================] - 0s 29ms/step\n",
      "1/1 [==============================] - 0s 29ms/step\n",
      "1/1 [==============================] - 0s 29ms/step\n",
      "1/1 [==============================] - 0s 32ms/step\n",
      "1/1 [==============================] - 0s 26ms/step\n",
      "1/1 [==============================] - 0s 29ms/step\n",
      "1/1 [==============================] - 0s 30ms/step\n",
      "1/1 [==============================] - 0s 20ms/step\n",
      "1/1 [==============================] - 0s 29ms/step\n",
      "1/1 [==============================] - 0s 32ms/step\n",
      "1/1 [==============================] - 0s 23ms/step\n",
      "1/1 [==============================] - 0s 28ms/step\n",
      "1/1 [==============================] - 0s 29ms/step\n",
      "1/1 [==============================] - 0s 31ms/step\n",
      "1/1 [==============================] - 0s 29ms/step\n",
      "1/1 [==============================] - 0s 30ms/step\n"
     ]
    }
   ],
   "source": [
    "# 카메라 연결\n",
    "cap = cv2.VideoCapture(0)  # 카메라 장치 번호 (0은 기본 카메라)\n",
    "\n",
    "# 탐지 시작\n",
    "while True:\n",
    "    # 카메라에서 프레임을 읽습니다\n",
    "    ret, frame = cap.read()\n",
    "    \n",
    "    if not ret:\n",
    "        break\n",
    "        \n",
    "    #하품 탐지\n",
    "    yawn_status = check_yawn_status(frame)\n",
    "    yawn_label = \"yawn\" if yawn_status == 2 else \"not yawn\"\n",
    "    if yawn_label == 'yawn':\n",
    "        cv2.putText(frame, yawn_label, (10, 30), cv2.FONT_HERSHEY_SIMPLEX, 1, (0, 0, 255), 2, cv2.LINE_AA)\n",
    "    else:\n",
    "        cv2.putText(frame, yawn_label, (10, 30), cv2.FONT_HERSHEY_SIMPLEX, 1, (0, 255, 0), 2, cv2.LINE_AA)\n",
    "    \n",
    "    # 얼굴 탐지\n",
    "    gray = cv2.cvtColor(frame, cv2.COLOR_BGR2GRAY)\n",
    "    faces = face_detector(gray)\n",
    "    \n",
    "    for face in faces:\n",
    "        # 얼굴에서 랜드마크 탐지\n",
    "        landmarks = landmark_predictor(gray, face)\n",
    "        \n",
    "        # 눈의 상태 확인\n",
    "        left_eye_status = check_eye_status(frame[(landmarks.part(37).y)-10:(landmarks.part(41).y)+10, (landmarks.part(36).x)-10:(landmarks.part(39).x)+10])\n",
    "        right_eye_status = check_eye_status(frame[(landmarks.part(43).y)-10:(landmarks.part(47).y)+10, (landmarks.part(42).x)-10:(landmarks.part(45).x)+10])\n",
    "        \n",
    "        #졸음 상태, 2초 동안 눈을 감고 있으면 wake up!\n",
    "        sleepy = sleep_status(left_eye_status, right_eye_status)\n",
    "        sleepy_label = 'Wake up!' if sleepy == 10 else 'Good'\n",
    "        if sleepy_label == 'Wake up!':\n",
    "            cv2.putText(frame, sleepy_label, (10, 60), cv2.FONT_HERSHEY_SIMPLEX, 1, (0, 0, 255), 2, cv2.LINE_AA)\n",
    "        else:\n",
    "            cv2.putText(frame, sleepy_label, (10, 60), cv2.FONT_HERSHEY_SIMPLEX, 1, (0, 255, 0), 2, cv2.LINE_AA)\n",
    "        \n",
    "        # 눈 감김 상태 출력\n",
    "        left_eye_label = 'Closed Eye' if left_eye_status == 0 else 'Open Eye'\n",
    "        right_eye_label = 'Closed Eye' if right_eye_status == 0 else 'Open Eye'\n",
    "        cv2.putText(frame, left_eye_label, (landmarks.part(36).x, landmarks.part(36).y - 10), cv2.FONT_HERSHEY_SIMPLEX, 0.5, (0, 255, 0), 2)\n",
    "        cv2.putText(frame, right_eye_label, (landmarks.part(42).x, landmarks.part(42).y - 10), cv2.FONT_HERSHEY_SIMPLEX, 0.5, (0, 255, 0), 2)\n",
    "    \n",
    "    # 결과 영상 표시\n",
    "    cv2.imshow('Eye Detection', frame)\n",
    "    \n",
    "    # q 키를 누르면 종료\n",
    "    if cv2.waitKey(1) & 0xFF == ord('q'):\n",
    "        break\n",
    "\n",
    "# 리소스 해제\n",
    "cap.release()\n",
    "cv2.destroyAllWindows()"
   ]
  },
  {
   "cell_type": "markdown",
   "id": "7d0e4ef1",
   "metadata": {},
   "source": [
    "### * 카메라에 오류가 생겼다면 하단의 셀을 실행해주세요."
   ]
  },
  {
   "cell_type": "code",
   "execution_count": 29,
   "id": "7bc24bea",
   "metadata": {},
   "outputs": [],
   "source": [
    "# 카메라에 오류가 생겼을 경우 이 셀을 강제로 실행해주세요.\n",
    "# 리소스 해제\n",
    "cap.release()\n",
    "cv2.destroyAllWindows()"
   ]
  },
  {
   "cell_type": "markdown",
   "id": "cbeef057",
   "metadata": {},
   "source": [
    "### 이 아래부터는 성공한 코드가 아닌 시도해 본 코드입니다!"
   ]
  },
  {
   "cell_type": "code",
   "execution_count": null,
   "id": "84336460",
   "metadata": {},
   "outputs": [],
   "source": [
    "# 사진에 노이즈가 있는 데이터가 만약 들어왔다면 안전을 위해 노이즈를 제거해야 함\n",
    "# 구글링을 하면서 얻은 코드입니다.\n",
    "\n",
    "import cv2\n",
    "import numpy as np\n",
    "from skimage.restoration import denoise_tv_chambolle\n",
    "\n",
    "def detect_and_remove_noise(image):\n",
    "    # 이미지 그레이스케일 변환\n",
    "    gray = cv2.cvtColor(image, cv2.COLOR_BGR2GRAY)\n",
    "    \n",
    "    # 이미지 필터링을 통한 노이즈 감지\n",
    "    blurred = cv2.GaussianBlur(gray, (5, 5), 0)\n",
    "    laplacian = cv2.Laplacian(blurred, cv2.CV_64F)\n",
    "    noise_mask = np.abs(laplacian) < 5\n",
    "    \n",
    "    # 노이즈 제거\n",
    "    denoised = denoise_tv_chambolle(image, weight=0.1, multichannel=True)\n",
    "    \n",
    "    # 노이즈가 있는 부분에 대해 마스크 적용\n",
    "    result = np.where(noise_mask[..., None], denoised, image)\n",
    "    \n",
    "    return result\n",
    "\n",
    "# 이미지 로드\n",
    "image = cv2.imread('noisy_image.jpg')\n",
    "\n",
    "# 노이즈 탐지 및 제거\n",
    "denoised_image = detect_and_remove_noise(image)\n",
    "\n",
    "# 결과 출력\n",
    "cv2.imshow('Original Image', image)\n",
    "cv2.imshow('Denoised Image', denoised_image)\n",
    "cv2.waitKey(0)\n",
    "cv2.destroyAllWindows()"
   ]
  }
 ],
 "metadata": {
  "kernelspec": {
   "display_name": "Python 3 (ipykernel)",
   "language": "python",
   "name": "python3"
  },
  "language_info": {
   "codemirror_mode": {
    "name": "ipython",
    "version": 3
   },
   "file_extension": ".py",
   "mimetype": "text/x-python",
   "name": "python",
   "nbconvert_exporter": "python",
   "pygments_lexer": "ipython3",
   "version": "3.10.9"
  }
 },
 "nbformat": 4,
 "nbformat_minor": 5
}
