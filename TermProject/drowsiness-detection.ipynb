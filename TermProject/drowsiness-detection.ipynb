{
 "cells": [
  {
   "cell_type": "markdown",
   "id": "91579fe7",
   "metadata": {
    "papermill": {
     "duration": 0.008422,
     "end_time": "2023-03-24T09:18:32.859777",
     "exception": false,
     "start_time": "2023-03-24T09:18:32.851355",
     "status": "completed"
    },
    "tags": []
   },
   "source": [
    "# **Importing the libraries**"
   ]
  },
  {
   "cell_type": "code",
   "execution_count": 1,
   "id": "9a71493c",
   "metadata": {
    "_cell_guid": "b1076dfc-b9ad-4769-8c92-a6c4dae69d19",
    "_uuid": "8f2839f25d086af736a60e9eeb907d3b93b6e0e5",
    "execution": {
     "iopub.execute_input": "2023-03-24T09:18:32.875452Z",
     "iopub.status.busy": "2023-03-24T09:18:32.875019Z",
     "iopub.status.idle": "2023-03-24T09:18:41.302798Z",
     "shell.execute_reply": "2023-03-24T09:18:41.301240Z"
    },
    "papermill": {
     "duration": 8.438967,
     "end_time": "2023-03-24T09:18:41.305882",
     "exception": false,
     "start_time": "2023-03-24T09:18:32.866915",
     "status": "completed"
    },
    "tags": []
   },
   "outputs": [],
   "source": [
    "import numpy as np \n",
    "import pandas as pd \n",
    "import os\n",
    "import tensorflow as tf\n",
    "\n",
    "from glob import glob\n",
    "from tqdm import tqdm\n",
    "\n",
    "import matplotlib.pyplot as plt\n",
    "from PIL import Image"
   ]
  },
  {
   "cell_type": "markdown",
   "id": "769a64ce",
   "metadata": {
    "papermill": {
     "duration": 0.016082,
     "end_time": "2023-03-24T09:18:41.328852",
     "exception": false,
     "start_time": "2023-03-24T09:18:41.312770",
     "status": "completed"
    },
    "tags": []
   },
   "source": [
    "# **Loading the Images**"
   ]
  },
  {
   "cell_type": "code",
   "execution_count": 2,
   "id": "03fbe3d1",
   "metadata": {
    "execution": {
     "iopub.execute_input": "2023-03-24T09:18:41.346130Z",
     "iopub.status.busy": "2023-03-24T09:18:41.344654Z",
     "iopub.status.idle": "2023-03-24T09:19:11.971418Z",
     "shell.execute_reply": "2023-03-24T09:19:11.970095Z"
    },
    "papermill": {
     "duration": 30.639378,
     "end_time": "2023-03-24T09:19:11.975552",
     "exception": false,
     "start_time": "2023-03-24T09:18:41.336174",
     "status": "completed"
    },
    "tags": []
   },
   "outputs": [
    {
     "name": "stderr",
     "output_type": "stream",
     "text": [
      "100%|██████████| 2000/2000 [00:15<00:00, 131.83it/s]\n",
      "100%|██████████| 2000/2000 [00:14<00:00, 135.23it/s]\n"
     ]
    }
   ],
   "source": [
    "X = []\n",
    "Y = []\n",
    "\n",
    "for i in tqdm(glob('/kaggle/input/mrl-dataset/train/Open_Eyes/*')):\n",
    "    temp = np.array(Image.open(i).resize((64,64)))\n",
    "    X.append(temp)\n",
    "    Y.append(1)\n",
    "    \n",
    "for i in tqdm(glob('/kaggle/input/mrl-dataset/train/Closed_Eyes/*')):\n",
    "    temp = np.array(Image.open(i).resize((64,64)))\n",
    "    X.append(temp)\n",
    "    Y.append(0)    "
   ]
  },
  {
   "cell_type": "markdown",
   "id": "4bf35493",
   "metadata": {
    "papermill": {
     "duration": 0.024194,
     "end_time": "2023-03-24T09:19:12.025211",
     "exception": false,
     "start_time": "2023-03-24T09:19:12.001017",
     "status": "completed"
    },
    "tags": []
   },
   "source": [
    "# **Normalizing the images (with any algorithm)**"
   ]
  },
  {
   "cell_type": "code",
   "execution_count": 3,
   "id": "e292f3a5",
   "metadata": {
    "execution": {
     "iopub.execute_input": "2023-03-24T09:19:12.076077Z",
     "iopub.status.busy": "2023-03-24T09:19:12.074954Z",
     "iopub.status.idle": "2023-03-24T09:19:12.080200Z",
     "shell.execute_reply": "2023-03-24T09:19:12.079262Z"
    },
    "papermill": {
     "duration": 0.033625,
     "end_time": "2023-03-24T09:19:12.082626",
     "exception": false,
     "start_time": "2023-03-24T09:19:12.049001",
     "status": "completed"
    },
    "tags": []
   },
   "outputs": [],
   "source": [
    "# X = np.array(X)\n",
    "# X = X/255.0\n",
    "# Y = np.array(Y)"
   ]
  },
  {
   "cell_type": "markdown",
   "id": "16a86f4e",
   "metadata": {
    "papermill": {
     "duration": 0.024529,
     "end_time": "2023-03-24T09:19:12.130533",
     "exception": false,
     "start_time": "2023-03-24T09:19:12.106004",
     "status": "completed"
    },
    "tags": []
   },
   "source": [
    "# **Normalizing the images using Min-Max Scaling algorithm**"
   ]
  },
  {
   "cell_type": "code",
   "execution_count": 4,
   "id": "e2d0e082",
   "metadata": {
    "execution": {
     "iopub.execute_input": "2023-03-24T09:19:12.181629Z",
     "iopub.status.busy": "2023-03-24T09:19:12.180509Z",
     "iopub.status.idle": "2023-03-24T09:19:12.396796Z",
     "shell.execute_reply": "2023-03-24T09:19:12.395426Z"
    },
    "papermill": {
     "duration": 0.245338,
     "end_time": "2023-03-24T09:19:12.399694",
     "exception": false,
     "start_time": "2023-03-24T09:19:12.154356",
     "status": "completed"
    },
    "tags": []
   },
   "outputs": [],
   "source": [
    "X = (np.array(X) - np.min(X)) / (np.max(X) - np.min(X))\n",
    "X = X/255.0\n",
    "Y = (np.array(Y) - np.min(Y)) / (np.max(Y) - np.min(Y))"
   ]
  },
  {
   "cell_type": "markdown",
   "id": "0ceb03dd",
   "metadata": {
    "papermill": {
     "duration": 0.0234,
     "end_time": "2023-03-24T09:19:12.447162",
     "exception": false,
     "start_time": "2023-03-24T09:19:12.423762",
     "status": "completed"
    },
    "tags": []
   },
   "source": [
    "# **Normalizing the images using Z-Score algorithm**"
   ]
  },
  {
   "cell_type": "code",
   "execution_count": 5,
   "id": "902e6f89",
   "metadata": {
    "execution": {
     "iopub.execute_input": "2023-03-24T09:19:12.497631Z",
     "iopub.status.busy": "2023-03-24T09:19:12.497194Z",
     "iopub.status.idle": "2023-03-24T09:19:12.502336Z",
     "shell.execute_reply": "2023-03-24T09:19:12.501061Z"
    },
    "papermill": {
     "duration": 0.033572,
     "end_time": "2023-03-24T09:19:12.505202",
     "exception": false,
     "start_time": "2023-03-24T09:19:12.471630",
     "status": "completed"
    },
    "tags": []
   },
   "outputs": [],
   "source": [
    "# 'X = (np.array(X) - np.mean(X)) / np.std(X)\n",
    "# X = X/255.0\n",
    "# Y = (np.array(Y) - np.mean(Y)) / np.std(Y)'"
   ]
  },
  {
   "cell_type": "markdown",
   "id": "06bc370d",
   "metadata": {
    "papermill": {
     "duration": 0.023503,
     "end_time": "2023-03-24T09:19:12.551867",
     "exception": false,
     "start_time": "2023-03-24T09:19:12.528364",
     "status": "completed"
    },
    "tags": []
   },
   "source": [
    "# Expanding the dimensions of array (numpy)"
   ]
  },
  {
   "cell_type": "code",
   "execution_count": 6,
   "id": "493f1dd5",
   "metadata": {
    "execution": {
     "iopub.execute_input": "2023-03-24T09:19:12.616685Z",
     "iopub.status.busy": "2023-03-24T09:19:12.615677Z",
     "iopub.status.idle": "2023-03-24T09:19:12.621678Z",
     "shell.execute_reply": "2023-03-24T09:19:12.620480Z"
    },
    "papermill": {
     "duration": 0.044992,
     "end_time": "2023-03-24T09:19:12.624904",
     "exception": false,
     "start_time": "2023-03-24T09:19:12.579912",
     "status": "completed"
    },
    "tags": []
   },
   "outputs": [],
   "source": [
    "X = np.expand_dims(X,-1)"
   ]
  },
  {
   "cell_type": "markdown",
   "id": "6406ed0e",
   "metadata": {
    "papermill": {
     "duration": 0.035265,
     "end_time": "2023-03-24T09:19:12.697198",
     "exception": false,
     "start_time": "2023-03-24T09:19:12.661933",
     "status": "completed"
    },
    "tags": []
   },
   "source": [
    "# Spliting the dataset into training and testing data"
   ]
  },
  {
   "cell_type": "code",
   "execution_count": 7,
   "id": "f9a63eda",
   "metadata": {
    "execution": {
     "iopub.execute_input": "2023-03-24T09:19:12.752657Z",
     "iopub.status.busy": "2023-03-24T09:19:12.752218Z",
     "iopub.status.idle": "2023-03-24T09:19:13.460245Z",
     "shell.execute_reply": "2023-03-24T09:19:13.459208Z"
    },
    "papermill": {
     "duration": 0.737718,
     "end_time": "2023-03-24T09:19:13.463001",
     "exception": false,
     "start_time": "2023-03-24T09:19:12.725283",
     "status": "completed"
    },
    "tags": []
   },
   "outputs": [],
   "source": [
    "from sklearn.model_selection import train_test_split\n",
    "x_train, x_test, y_train, y_test = train_test_split(X, Y, test_size=0.33, random_state=42)"
   ]
  },
  {
   "cell_type": "markdown",
   "id": "0682f86c",
   "metadata": {
    "papermill": {
     "duration": 0.026472,
     "end_time": "2023-03-24T09:19:13.514034",
     "exception": false,
     "start_time": "2023-03-24T09:19:13.487562",
     "status": "completed"
    },
    "tags": []
   },
   "source": [
    "# CNN Model"
   ]
  },
  {
   "cell_type": "code",
   "execution_count": 8,
   "id": "f5b41ec3",
   "metadata": {
    "execution": {
     "iopub.execute_input": "2023-03-24T09:19:13.563318Z",
     "iopub.status.busy": "2023-03-24T09:19:13.562511Z",
     "iopub.status.idle": "2023-03-24T09:19:14.136049Z",
     "shell.execute_reply": "2023-03-24T09:19:14.135079Z"
    },
    "papermill": {
     "duration": 0.601002,
     "end_time": "2023-03-24T09:19:14.138585",
     "exception": false,
     "start_time": "2023-03-24T09:19:13.537583",
     "status": "completed"
    },
    "tags": []
   },
   "outputs": [],
   "source": [
    "from tensorflow.keras.models import Sequential\n",
    "from tensorflow.keras.layers import Dense, Input, Conv2D, BatchNormalization, MaxPooling2D,Dropout, Flatten\n",
    "\n",
    "model = tf.keras.models.Sequential([\n",
    "      Input(shape=(64, 64, 1)),\n",
    "\n",
    "      Conv2D(filters = 32, kernel_size = 5, strides = 1, activation = 'relu'),\n",
    "      Conv2D(filters = 32, kernel_size = 5, strides = 1, activation = 'relu', use_bias=False),\n",
    "      BatchNormalization(),\n",
    "      MaxPooling2D(strides = 2),\n",
    "      Dropout(0.3),\n",
    "\n",
    "      Conv2D(filters = 64, kernel_size = 3, strides = 1, activation = 'relu'),\n",
    "      Conv2D(filters = 64, kernel_size = 3, strides = 1, activation = 'relu', use_bias=False),\n",
    "      BatchNormalization(),\n",
    "      MaxPooling2D(strides = 2),\n",
    "      Dropout(0.3),\n",
    "\n",
    "      Flatten(),\n",
    "      Dense(units  = 256, activation = 'relu', use_bias=False),\n",
    "      BatchNormalization(),\n",
    "\n",
    "      Dense(units = 128, use_bias=False, activation = 'relu'),\n",
    "\n",
    "      Dense(units = 84, use_bias=False, activation = 'relu'),\n",
    "      BatchNormalization(),\n",
    "      Dropout(0.3),\n",
    "\n",
    "      Dense(units = 1, activation = 'sigmoid')\n",
    "  ])"
   ]
  },
  {
   "cell_type": "markdown",
   "id": "c80edfc4",
   "metadata": {
    "papermill": {
     "duration": 0.024465,
     "end_time": "2023-03-24T09:19:14.186980",
     "exception": false,
     "start_time": "2023-03-24T09:19:14.162515",
     "status": "completed"
    },
    "tags": []
   },
   "source": [
    "# Compiling the Model"
   ]
  },
  {
   "cell_type": "code",
   "execution_count": 9,
   "id": "42643b1a",
   "metadata": {
    "execution": {
     "iopub.execute_input": "2023-03-24T09:19:14.237773Z",
     "iopub.status.busy": "2023-03-24T09:19:14.237309Z",
     "iopub.status.idle": "2023-03-24T09:19:14.258237Z",
     "shell.execute_reply": "2023-03-24T09:19:14.256867Z"
    },
    "papermill": {
     "duration": 0.048673,
     "end_time": "2023-03-24T09:19:14.261103",
     "exception": false,
     "start_time": "2023-03-24T09:19:14.212430",
     "status": "completed"
    },
    "tags": []
   },
   "outputs": [],
   "source": [
    "model.compile(loss='binary_crossentropy',optimizer='adam', metrics=['accuracy'])"
   ]
  },
  {
   "cell_type": "markdown",
   "id": "a79c38a6",
   "metadata": {
    "papermill": {
     "duration": 0.024359,
     "end_time": "2023-03-24T09:19:14.309981",
     "exception": false,
     "start_time": "2023-03-24T09:19:14.285622",
     "status": "completed"
    },
    "tags": []
   },
   "source": [
    "# Training of the Model"
   ]
  },
  {
   "cell_type": "code",
   "execution_count": 10,
   "id": "2a0c5c55",
   "metadata": {
    "execution": {
     "iopub.execute_input": "2023-03-24T09:19:14.360265Z",
     "iopub.status.busy": "2023-03-24T09:19:14.359835Z",
     "iopub.status.idle": "2023-03-24T09:37:38.868746Z",
     "shell.execute_reply": "2023-03-24T09:37:38.867393Z"
    },
    "papermill": {
     "duration": 1104.69597,
     "end_time": "2023-03-24T09:37:39.030153",
     "exception": false,
     "start_time": "2023-03-24T09:19:14.334183",
     "status": "completed"
    },
    "tags": []
   },
   "outputs": [
    {
     "name": "stdout",
     "output_type": "stream",
     "text": [
      "Epoch 1/30\n",
      "67/67 [==============================] - ETA: 0s - loss: 0.1819 - accuracy: 0.9277\n",
      "Epoch 1: val_loss improved from inf to 0.72456, saving model to bestModel.h5\n",
      "67/67 [==============================] - 38s 536ms/step - loss: 0.1819 - accuracy: 0.9277 - val_loss: 0.7246 - val_accuracy: 0.5187\n",
      "Epoch 2/30\n",
      "67/67 [==============================] - ETA: 0s - loss: 0.0674 - accuracy: 0.9813\n",
      "Epoch 2: val_loss did not improve from 0.72456\n",
      "67/67 [==============================] - 35s 530ms/step - loss: 0.0674 - accuracy: 0.9813 - val_loss: 0.7938 - val_accuracy: 0.5187\n",
      "Epoch 3/30\n",
      "67/67 [==============================] - ETA: 0s - loss: 0.0422 - accuracy: 0.9874\n",
      "Epoch 3: val_loss did not improve from 0.72456\n",
      "67/67 [==============================] - 35s 529ms/step - loss: 0.0422 - accuracy: 0.9874 - val_loss: 1.2750 - val_accuracy: 0.5187\n",
      "Epoch 4/30\n",
      "67/67 [==============================] - ETA: 0s - loss: 0.0498 - accuracy: 0.9832\n",
      "Epoch 4: val_loss did not improve from 0.72456\n",
      "67/67 [==============================] - 35s 526ms/step - loss: 0.0498 - accuracy: 0.9832 - val_loss: 1.4135 - val_accuracy: 0.5187\n",
      "Epoch 5/30\n",
      "67/67 [==============================] - ETA: 0s - loss: 0.0377 - accuracy: 0.9883\n",
      "Epoch 5: val_loss did not improve from 0.72456\n",
      "67/67 [==============================] - 35s 529ms/step - loss: 0.0377 - accuracy: 0.9883 - val_loss: 0.9288 - val_accuracy: 0.5187\n",
      "Epoch 6/30\n",
      "67/67 [==============================] - ETA: 0s - loss: 0.0305 - accuracy: 0.9907\n",
      "Epoch 6: val_loss did not improve from 0.72456\n",
      "67/67 [==============================] - 36s 531ms/step - loss: 0.0305 - accuracy: 0.9907 - val_loss: 0.9188 - val_accuracy: 0.5187\n",
      "Epoch 7/30\n",
      "67/67 [==============================] - ETA: 0s - loss: 0.0150 - accuracy: 0.9958\n",
      "Epoch 7: val_loss improved from 0.72456 to 0.61887, saving model to bestModel.h5\n",
      "67/67 [==============================] - 36s 531ms/step - loss: 0.0150 - accuracy: 0.9958 - val_loss: 0.6189 - val_accuracy: 0.5616\n",
      "Epoch 8/30\n",
      "67/67 [==============================] - ETA: 0s - loss: 0.0170 - accuracy: 0.9939\n",
      "Epoch 8: val_loss improved from 0.61887 to 0.25018, saving model to bestModel.h5\n",
      "67/67 [==============================] - 35s 526ms/step - loss: 0.0170 - accuracy: 0.9939 - val_loss: 0.2502 - val_accuracy: 0.8731\n",
      "Epoch 9/30\n",
      "67/67 [==============================] - ETA: 0s - loss: 0.0272 - accuracy: 0.9883\n",
      "Epoch 9: val_loss did not improve from 0.25018\n",
      "67/67 [==============================] - 36s 530ms/step - loss: 0.0272 - accuracy: 0.9883 - val_loss: 0.3392 - val_accuracy: 0.8060\n",
      "Epoch 10/30\n",
      "67/67 [==============================] - ETA: 0s - loss: 0.0115 - accuracy: 0.9972\n",
      "Epoch 10: val_loss did not improve from 0.25018\n",
      "67/67 [==============================] - 35s 523ms/step - loss: 0.0115 - accuracy: 0.9972 - val_loss: 0.3322 - val_accuracy: 0.8284\n",
      "Epoch 11/30\n",
      "67/67 [==============================] - ETA: 0s - loss: 0.0055 - accuracy: 0.9986\n",
      "Epoch 11: val_loss improved from 0.25018 to 0.04716, saving model to bestModel.h5\n",
      "67/67 [==============================] - 35s 527ms/step - loss: 0.0055 - accuracy: 0.9986 - val_loss: 0.0472 - val_accuracy: 0.9795\n",
      "Epoch 12/30\n",
      "67/67 [==============================] - ETA: 0s - loss: 0.0055 - accuracy: 0.9991\n",
      "Epoch 12: val_loss improved from 0.04716 to 0.04024, saving model to bestModel.h5\n",
      "67/67 [==============================] - 35s 528ms/step - loss: 0.0055 - accuracy: 0.9991 - val_loss: 0.0402 - val_accuracy: 0.9869\n",
      "Epoch 13/30\n",
      "67/67 [==============================] - ETA: 0s - loss: 0.0096 - accuracy: 0.9963\n",
      "Epoch 13: val_loss improved from 0.04024 to 0.03033, saving model to bestModel.h5\n",
      "67/67 [==============================] - 35s 528ms/step - loss: 0.0096 - accuracy: 0.9963 - val_loss: 0.0303 - val_accuracy: 0.9925\n",
      "Epoch 14/30\n",
      "67/67 [==============================] - ETA: 0s - loss: 0.0110 - accuracy: 0.9958\n",
      "Epoch 14: val_loss did not improve from 0.03033\n",
      "67/67 [==============================] - 35s 523ms/step - loss: 0.0110 - accuracy: 0.9958 - val_loss: 3.1463 - val_accuracy: 0.4813\n",
      "Epoch 15/30\n",
      "67/67 [==============================] - ETA: 0s - loss: 0.0199 - accuracy: 0.9925\n",
      "Epoch 15: val_loss did not improve from 0.03033\n",
      "67/67 [==============================] - 35s 525ms/step - loss: 0.0199 - accuracy: 0.9925 - val_loss: 0.3508 - val_accuracy: 0.9086\n",
      "Epoch 16/30\n",
      "67/67 [==============================] - ETA: 0s - loss: 0.0108 - accuracy: 0.9958\n",
      "Epoch 16: val_loss did not improve from 0.03033\n",
      "67/67 [==============================] - 35s 526ms/step - loss: 0.0108 - accuracy: 0.9958 - val_loss: 0.2830 - val_accuracy: 0.9198\n",
      "Epoch 17/30\n",
      "67/67 [==============================] - ETA: 0s - loss: 0.0068 - accuracy: 0.9977\n",
      "Epoch 17: val_loss did not improve from 0.03033\n",
      "67/67 [==============================] - 35s 523ms/step - loss: 0.0068 - accuracy: 0.9977 - val_loss: 0.1377 - val_accuracy: 0.9310\n",
      "Epoch 18/30\n",
      "67/67 [==============================] - ETA: 0s - loss: 0.0015 - accuracy: 1.0000\n",
      "Epoch 18: val_loss improved from 0.03033 to 0.00087, saving model to bestModel.h5\n",
      "67/67 [==============================] - 35s 525ms/step - loss: 0.0015 - accuracy: 1.0000 - val_loss: 8.7447e-04 - val_accuracy: 1.0000\n",
      "Epoch 19/30\n",
      "67/67 [==============================] - ETA: 0s - loss: 6.5730e-04 - accuracy: 1.0000\n",
      "Epoch 19: val_loss improved from 0.00087 to 0.00024, saving model to bestModel.h5\n",
      "67/67 [==============================] - 36s 532ms/step - loss: 6.5730e-04 - accuracy: 1.0000 - val_loss: 2.4433e-04 - val_accuracy: 1.0000\n",
      "Epoch 20/30\n",
      "67/67 [==============================] - ETA: 0s - loss: 0.0057 - accuracy: 0.9986\n",
      "Epoch 20: val_loss did not improve from 0.00024\n",
      "67/67 [==============================] - 35s 527ms/step - loss: 0.0057 - accuracy: 0.9986 - val_loss: 0.0151 - val_accuracy: 0.9944\n",
      "Epoch 21/30\n",
      "67/67 [==============================] - ETA: 0s - loss: 0.0019 - accuracy: 0.9995\n",
      "Epoch 21: val_loss did not improve from 0.00024\n",
      "67/67 [==============================] - 35s 524ms/step - loss: 0.0019 - accuracy: 0.9995 - val_loss: 0.0196 - val_accuracy: 0.9925\n",
      "Epoch 22/30\n",
      "67/67 [==============================] - ETA: 0s - loss: 0.0044 - accuracy: 0.9991\n",
      "Epoch 22: val_loss did not improve from 0.00024\n",
      "67/67 [==============================] - 35s 524ms/step - loss: 0.0044 - accuracy: 0.9991 - val_loss: 0.0371 - val_accuracy: 0.9851\n",
      "Epoch 23/30\n",
      "67/67 [==============================] - ETA: 0s - loss: 0.0018 - accuracy: 1.0000\n",
      "Epoch 23: val_loss did not improve from 0.00024\n",
      "67/67 [==============================] - 35s 527ms/step - loss: 0.0018 - accuracy: 1.0000 - val_loss: 0.0012 - val_accuracy: 1.0000\n",
      "Epoch 24/30\n",
      "67/67 [==============================] - ETA: 0s - loss: 0.0025 - accuracy: 0.9991\n",
      "Epoch 24: val_loss did not improve from 0.00024\n",
      "67/67 [==============================] - 35s 523ms/step - loss: 0.0025 - accuracy: 0.9991 - val_loss: 0.0046 - val_accuracy: 0.9981\n",
      "Epoch 25/30\n",
      "67/67 [==============================] - ETA: 0s - loss: 0.0059 - accuracy: 0.9981\n",
      "Epoch 25: val_loss did not improve from 0.00024\n",
      "67/67 [==============================] - 35s 527ms/step - loss: 0.0059 - accuracy: 0.9981 - val_loss: 0.0091 - val_accuracy: 0.9981\n",
      "Epoch 26/30\n",
      "67/67 [==============================] - ETA: 0s - loss: 0.0038 - accuracy: 0.9991\n",
      "Epoch 26: val_loss did not improve from 0.00024\n",
      "67/67 [==============================] - 35s 527ms/step - loss: 0.0038 - accuracy: 0.9991 - val_loss: 0.0035 - val_accuracy: 0.9981\n",
      "Epoch 27/30\n",
      "67/67 [==============================] - ETA: 0s - loss: 0.0047 - accuracy: 0.9981\n",
      "Epoch 27: val_loss did not improve from 0.00024\n",
      "67/67 [==============================] - 35s 524ms/step - loss: 0.0047 - accuracy: 0.9981 - val_loss: 0.0787 - val_accuracy: 0.9776\n",
      "Epoch 28/30\n",
      "67/67 [==============================] - ETA: 0s - loss: 0.0176 - accuracy: 0.9935\n",
      "Epoch 28: val_loss did not improve from 0.00024\n",
      "67/67 [==============================] - 35s 525ms/step - loss: 0.0176 - accuracy: 0.9935 - val_loss: 17.5843 - val_accuracy: 0.4813\n",
      "Epoch 29/30\n",
      "67/67 [==============================] - ETA: 0s - loss: 0.0107 - accuracy: 0.9963\n",
      "Epoch 29: val_loss did not improve from 0.00024\n",
      "67/67 [==============================] - 36s 536ms/step - loss: 0.0107 - accuracy: 0.9963 - val_loss: 12.2507 - val_accuracy: 0.4813\n",
      "Epoch 30/30\n",
      "67/67 [==============================] - ETA: 0s - loss: 0.0087 - accuracy: 0.9986\n",
      "Epoch 30: val_loss did not improve from 0.00024\n",
      "67/67 [==============================] - 36s 532ms/step - loss: 0.0087 - accuracy: 0.9986 - val_loss: 11.7145 - val_accuracy: 0.4813\n"
     ]
    },
    {
     "data": {
      "text/plain": [
       "<keras.callbacks.History at 0x7f23e841f610>"
      ]
     },
     "execution_count": 10,
     "metadata": {},
     "output_type": "execute_result"
    }
   ],
   "source": [
    "callback = tf.keras.callbacks.ModelCheckpoint(\n",
    "    filepath='bestModel.h5',\n",
    "    save_weights_only=False,\n",
    "    monitor='val_loss',\n",
    "    mode='min',\n",
    "    save_best_only=True,\n",
    "    verbose =1)\n",
    "model.fit(x_train, y_train, validation_split=0.2, epochs=30, batch_size=32, callbacks=callback)"
   ]
  },
  {
   "cell_type": "markdown",
   "id": "30b616da",
   "metadata": {
    "papermill": {
     "duration": 0.158583,
     "end_time": "2023-03-24T09:37:39.348845",
     "exception": false,
     "start_time": "2023-03-24T09:37:39.190262",
     "status": "completed"
    },
    "tags": []
   },
   "source": [
    "# Model Evaluation"
   ]
  },
  {
   "cell_type": "code",
   "execution_count": 11,
   "id": "77f5a46e",
   "metadata": {
    "execution": {
     "iopub.execute_input": "2023-03-24T09:37:39.670732Z",
     "iopub.status.busy": "2023-03-24T09:37:39.670265Z",
     "iopub.status.idle": "2023-03-24T09:37:43.725321Z",
     "shell.execute_reply": "2023-03-24T09:37:43.724073Z"
    },
    "papermill": {
     "duration": 4.219052,
     "end_time": "2023-03-24T09:37:43.728118",
     "exception": false,
     "start_time": "2023-03-24T09:37:39.509066",
     "status": "completed"
    },
    "tags": []
   },
   "outputs": [
    {
     "name": "stdout",
     "output_type": "stream",
     "text": [
      "42/42 [==============================] - 4s 94ms/step - loss: 10.8007 - accuracy: 0.5212\n"
     ]
    },
    {
     "data": {
      "text/plain": [
       "[10.800714492797852, 0.521212100982666]"
      ]
     },
     "execution_count": 11,
     "metadata": {},
     "output_type": "execute_result"
    }
   ],
   "source": [
    "model.evaluate(x_test, y_test)"
   ]
  },
  {
   "cell_type": "markdown",
   "id": "8cd5b64e",
   "metadata": {
    "papermill": {
     "duration": 0.163336,
     "end_time": "2023-03-24T09:37:44.052637",
     "exception": false,
     "start_time": "2023-03-24T09:37:43.889301",
     "status": "completed"
    },
    "tags": []
   },
   "source": [
    "# Loading the Model Performance"
   ]
  },
  {
   "cell_type": "code",
   "execution_count": 12,
   "id": "f1bd6724",
   "metadata": {
    "execution": {
     "iopub.execute_input": "2023-03-24T09:37:44.438123Z",
     "iopub.status.busy": "2023-03-24T09:37:44.437465Z",
     "iopub.status.idle": "2023-03-24T09:37:50.165904Z",
     "shell.execute_reply": "2023-03-24T09:37:50.164709Z"
    },
    "papermill": {
     "duration": 5.953312,
     "end_time": "2023-03-24T09:37:50.168739",
     "exception": false,
     "start_time": "2023-03-24T09:37:44.215427",
     "status": "completed"
    },
    "tags": []
   },
   "outputs": [
    {
     "name": "stdout",
     "output_type": "stream",
     "text": [
      "42/42 [==============================] - 4s 96ms/step - loss: 0.0014 - accuracy: 0.9992\n"
     ]
    },
    {
     "data": {
      "text/plain": [
       "[0.0014001838862895966, 0.9992424249649048]"
      ]
     },
     "execution_count": 12,
     "metadata": {},
     "output_type": "execute_result"
    }
   ],
   "source": [
    "from keras.models import load_model\n",
    "best_model = load_model('/kaggle/working/bestModel.h5')\n",
    "best_model.evaluate(x_test, y_test)"
   ]
  },
  {
   "cell_type": "markdown",
   "id": "58358a31",
   "metadata": {
    "papermill": {
     "duration": 0.162072,
     "end_time": "2023-03-24T09:37:50.496065",
     "exception": false,
     "start_time": "2023-03-24T09:37:50.333993",
     "status": "completed"
    },
    "tags": []
   },
   "source": [
    "# Changing the dimensions and Plotting the trained images"
   ]
  },
  {
   "cell_type": "code",
   "execution_count": 13,
   "id": "b6c7a8de",
   "metadata": {
    "execution": {
     "iopub.execute_input": "2023-03-24T09:37:50.825959Z",
     "iopub.status.busy": "2023-03-24T09:37:50.825552Z",
     "iopub.status.idle": "2023-03-24T09:37:52.440932Z",
     "shell.execute_reply": "2023-03-24T09:37:52.438943Z"
    },
    "papermill": {
     "duration": 1.78554,
     "end_time": "2023-03-24T09:37:52.443970",
     "exception": false,
     "start_time": "2023-03-24T09:37:50.658430",
     "status": "completed"
    },
    "tags": []
   },
   "outputs": [
    {
     "name": "stdout",
     "output_type": "stream",
     "text": [
      "1/1 [==============================] - 0s 192ms/step\n"
     ]
    },
    {
     "data": {
      "image/png": "[encoded data removed]",
      "text/plain": [
       "<Figure size 640x480 with 1 Axes>"
      ]
     },
     "metadata": {},
     "output_type": "display_data"
    },
    {
     "name": "stdout",
     "output_type": "stream",
     "text": [
      "Open\n",
      "1/1 [==============================] - 0s 28ms/step\n"
     ]
    },
    {
     "data": {
      "image/png": "[encoded data removed]",
      "text/plain": [
       "<Figure size 640x480 with 1 Axes>"
      ]
     },
     "metadata": {},
     "output_type": "display_data"
    },
    {
     "name": "stdout",
     "output_type": "stream",
     "text": [
      "Closed\n",
      "1/1 [==============================] - 0s 27ms/step\n"
     ]
    },
    {
     "data": {
      "image/png": "[encoded data removed]",
      "text/plain": [
       "<Figure size 640x480 with 1 Axes>"
      ]
     },
     "metadata": {},
     "output_type": "display_data"
    },
    {
     "name": "stdout",
     "output_type": "stream",
     "text": [
      "Open\n",
      "1/1 [==============================] - 0s 27ms/step\n"
     ]
    },
    {
     "data": {
      "image/png": "[encoded data removed]",
      "text/plain": [
       "<Figure size 640x480 with 1 Axes>"
      ]
     },
     "metadata": {},
     "output_type": "display_data"
    },
    {
     "name": "stdout",
     "output_type": "stream",
     "text": [
      "Closed\n",
      "1/1 [==============================] - 0s 32ms/step\n"
     ]
    },
    {
     "data": {
      "image/png": "[encoded data removed]",
      "text/plain": [
       "<Figure size 640x480 with 1 Axes>"
      ]
     },
     "metadata": {},
     "output_type": "display_data"
    },
    {
     "name": "stdout",
     "output_type": "stream",
     "text": [
      "Closed\n"
     ]
    }
   ],
   "source": [
    "for i in x_test[0:5]:\n",
    "    result = best_model.predict(np.expand_dims(i,0))\n",
    "    plt.imshow(i)\n",
    "    plt.show()\n",
    "    \n",
    "    if result > 0.5:\n",
    "        print('Open')\n",
    "    else:\n",
    "        print(\"Closed\")\n",
    "    "
   ]
  },
  {
   "cell_type": "markdown",
   "id": "be57beab",
   "metadata": {
    "papermill": {
     "duration": 0.166873,
     "end_time": "2023-03-24T09:37:52.776532",
     "exception": false,
     "start_time": "2023-03-24T09:37:52.609659",
     "status": "completed"
    },
    "tags": []
   },
   "source": [
    "# Prediction and Confusion Matrix"
   ]
  },
  {
   "cell_type": "code",
   "execution_count": 14,
   "id": "b6d40124",
   "metadata": {
    "execution": {
     "iopub.execute_input": "2023-03-24T09:37:53.111781Z",
     "iopub.status.busy": "2023-03-24T09:37:53.110500Z",
     "iopub.status.idle": "2023-03-24T09:37:58.204937Z",
     "shell.execute_reply": "2023-03-24T09:37:58.203739Z"
    },
    "papermill": {
     "duration": 5.263951,
     "end_time": "2023-03-24T09:37:58.207597",
     "exception": false,
     "start_time": "2023-03-24T09:37:52.943646",
     "status": "completed"
    },
    "tags": []
   },
   "outputs": [
    {
     "name": "stdout",
     "output_type": "stream",
     "text": [
      "42/42 [==============================] - 4s 104ms/step\n"
     ]
    },
    {
     "data": {
      "text/plain": [
       "Text(0.5, 25.722222222222214, 'Actual')"
      ]
     },
     "execution_count": 14,
     "metadata": {},
     "output_type": "execute_result"
    },
    {
     "data": {
      "image/png": "[encoded data removed]",
      "text/plain": [
       "<Figure size 1500x500 with 2 Axes>"
      ]
     },
     "metadata": {},
     "output_type": "display_data"
    }
   ],
   "source": [
    "from sklearn.metrics import confusion_matrix\n",
    "import seaborn as sns\n",
    "\n",
    "plt.figure(figsize=(15, 5))\n",
    "\n",
    "preds = best_model.predict(x_test)\n",
    "preds = (preds >= 0.5).astype(np.int32)\n",
    "cm = confusion_matrix(y_test, preds)\n",
    "df_cm = pd.DataFrame(cm, index=['closed', 'Open'], columns=['Closed', 'Open'])\n",
    "plt.subplot(121)\n",
    "plt.title(\"Confusion matrix\\n\")\n",
    "sns.heatmap(df_cm, annot=True, fmt=\"d\", cmap=\"YlGnBu\")\n",
    "plt.ylabel(\"Predicted\")\n",
    "plt.xlabel(\"Actual\")"
   ]
  },
  {
   "cell_type": "markdown",
   "id": "e7cd3f3e",
   "metadata": {
    "papermill": {
     "duration": 0.168578,
     "end_time": "2023-03-24T09:37:58.545174",
     "exception": false,
     "start_time": "2023-03-24T09:37:58.376596",
     "status": "completed"
    },
    "tags": []
   },
   "source": [
    "# Accuracy\n",
    "\n",
    "Evaluating the Accuracy"
   ]
  },
  {
   "cell_type": "code",
   "execution_count": 15,
   "id": "40362445",
   "metadata": {
    "execution": {
     "iopub.execute_input": "2023-03-24T09:37:58.887103Z",
     "iopub.status.busy": "2023-03-24T09:37:58.886441Z",
     "iopub.status.idle": "2023-03-24T09:38:03.029123Z",
     "shell.execute_reply": "2023-03-24T09:38:03.027783Z"
    },
    "papermill": {
     "duration": 4.316324,
     "end_time": "2023-03-24T09:38:03.031758",
     "exception": false,
     "start_time": "2023-03-24T09:37:58.715434",
     "status": "completed"
    },
    "tags": []
   },
   "outputs": [
    {
     "name": "stdout",
     "output_type": "stream",
     "text": [
      "42/42 [==============================] - 4s 96ms/step - loss: 0.0014 - accuracy: 0.9992\n",
      "Accuracy: 0.9992424249649048\n"
     ]
    }
   ],
   "source": [
    "accuracy = best_model.evaluate(x_test, y_test)[1]\n",
    "print(\"Accuracy:\", accuracy)"
   ]
  }
 ],
 "metadata": {
  "kernelspec": {
   "display_name": "Python 3",
   "language": "python",
   "name": "python3"
  },
  "language_info": {
   "codemirror_mode": {
    "name": "ipython",
    "version": 3
   },
   "file_extension": ".py",
   "mimetype": "text/x-python",
   "name": "python",
   "nbconvert_exporter": "python",
   "pygments_lexer": "ipython3",
   "version": "3.7.12"
  },
  "papermill": {
   "default_parameters": {},
   "duration": 1183.507204,
   "end_time": "2023-03-24T09:38:05.948610",
   "environment_variables": {},
   "exception": null,
   "input_path": "__notebook__.ipynb",
   "output_path": "__notebook__.ipynb",
   "parameters": {},
   "start_time": "2023-03-24T09:18:22.441406",
   "version": "2.4.0"
  }
 },
 "nbformat": 4,
 "nbformat_minor": 5
}
